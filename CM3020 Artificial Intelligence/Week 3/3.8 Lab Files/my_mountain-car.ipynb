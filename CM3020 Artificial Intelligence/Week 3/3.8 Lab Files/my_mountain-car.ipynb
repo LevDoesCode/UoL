{
 "cells": [
  {
   "cell_type": "code",
   "execution_count": null,
   "id": "ec755efa-2052-422b-b49d-fe46a343d568",
   "metadata": {},
   "outputs": [],
   "source": [
    "import gym\n",
    "for n in gym.envs.registry.all():\n",
    "    print(n)\n"
   ]
  },
  {
   "cell_type": "code",
   "execution_count": 2,
   "id": "01167b07-819c-40c8-a5c8-5463c43c8925",
   "metadata": {},
   "outputs": [
    {
     "data": {
      "text/plain": [
       "True"
      ]
     },
     "execution_count": 2,
     "metadata": {},
     "output_type": "execute_result"
    }
   ],
   "source": [
    "import gym\n",
    "import matplotlib.pyplot as plt\n",
    "#e = gym.make('gym_gs:BreakwallNoFrameskip-v1')\n",
    "env_name = \"MountainCarContinuous-v0\"\n",
    "e = gym.make(env_name)\n",
    "e.reset()\n",
    "e.render()\n",
    "# img = e.render('rgb_array')\n",
    "# plt.imshow(e.render(mode='rgb_array'))b\n",
    "# img = e.render('rgb_array')\n",
    "# plt.imshow(e.render(mode='rgb_array'))"
   ]
  },
  {
   "cell_type": "code",
   "execution_count": 7,
   "id": "9328b324-7f9a-4178-94c4-d1f8cec07542",
   "metadata": {},
   "outputs": [
    {
     "data": {
      "text/plain": [
       "array([-0.51512,  0.     ])"
      ]
     },
     "execution_count": 7,
     "metadata": {},
     "output_type": "execute_result"
    }
   ],
   "source": [
    "e.reset()\n",
    "e.step(e.action_space.sample())\n",
    "e.render()\n",
    "e.reset()"
   ]
  },
  {
   "cell_type": "code",
   "execution_count": null,
   "id": "547ccc71-8e9e-4d56-8cea-bfeddd002845",
   "metadata": {},
   "outputs": [],
   "source": []
  },
  {
   "cell_type": "code",
   "execution_count": null,
   "id": "77a096e6-3fa9-48be-8bf0-06367ac9f9aa",
   "metadata": {},
   "outputs": [],
   "source": []
  }
 ],
 "metadata": {
  "kernelspec": {
   "display_name": "Python 3 (ipykernel)",
   "language": "python",
   "name": "python3"
  },
  "language_info": {
   "codemirror_mode": {
    "name": "ipython",
    "version": 3
   },
   "file_extension": ".py",
   "mimetype": "text/x-python",
   "name": "python",
   "nbconvert_exporter": "python",
   "pygments_lexer": "ipython3",
   "version": "3.10.8"
  }
 },
 "nbformat": 4,
 "nbformat_minor": 5
}
