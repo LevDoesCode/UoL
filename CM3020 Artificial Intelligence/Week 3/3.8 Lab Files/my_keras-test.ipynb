{
 "cells": [
  {
   "cell_type": "code",
   "execution_count": 3,
   "id": "0bbb53e7-84e7-4d65-baab-05421b7e7bc3",
   "metadata": {},
   "outputs": [
    {
     "name": "stdout",
     "output_type": "stream",
     "text": [
      "2.10.0\n"
     ]
    }
   ],
   "source": [
    "import keras\n",
    "print(keras.__version__)"
   ]
  },
  {
   "cell_type": "code",
   "execution_count": null,
   "id": "9d23266a-38fb-430f-9502-85526a86a5d1",
   "metadata": {},
   "outputs": [],
   "source": [
    "from keras import layers\n",
    "inputs = layers.Input(shape=(1,))\n",
    "layer1 = layers.Dense(512, activation=\"relu\")(inputs)\n",
    "outputs = layers.Dense(3, activation=\"linear\")(layer1)\n",
    "nn_model = keras.Model(inputs=inputs, outputs=outputs)\n",
    "nn_model.summary()"
   ]
  },
  {
   "cell_type": "code",
   "execution_count": null,
   "id": "397f97d8-18de-4855-ad94-89e461f85b6e",
   "metadata": {},
   "outputs": [],
   "source": [
    "output = nn_model(0.5) #throws erros"
   ]
  },
  {
   "cell_type": "code",
   "execution_count": null,
   "id": "bded47b5-69fe-40cf-9cb4-78a360ee4244",
   "metadata": {},
   "outputs": [],
   "source": [
    "input = keras.backend.constant([[0.5]])\n",
    "output = nn_model(input)\n",
    "print(output)"
   ]
  },
  {
   "cell_type": "code",
   "execution_count": null,
   "id": "d10e5212-c663-49c2-bb0f-34956c23070a",
   "metadata": {},
   "outputs": [],
   "source": [
    "import numpy as np\n",
    "inputs = np.arange(0, 1.1, 0.1)\n",
    "input = keras.backend.constant([[0.5]])\n",
    "input2 = keras.backend.constant([inputs])\n",
    "output = nn_model(input)\n",
    "print(input)\n",
    "print(input2)\n",
    "print(output)\n",
    "print(inputs)"
   ]
  },
  {
   "cell_type": "code",
   "execution_count": null,
   "id": "0111c2c1-6c00-4859-8715-e74fcc3883bd",
   "metadata": {},
   "outputs": [],
   "source": [
    "import gym\n",
    "e = gym.make('MountainCarContinuous-v0')\n",
    "e.reset()\n",
    "e.render()"
   ]
  },
  {
   "cell_type": "code",
   "execution_count": null,
   "id": "2dcfd9d1-43b6-48f0-9435-9ef75158152c",
   "metadata": {},
   "outputs": [],
   "source": [
    "import gym\n",
    "e = gym.make('MountainCarContinuous-v0')\n",
    "s1 = e.reset()\n",
    "print(s1)"
   ]
  },
  {
   "cell_type": "code",
   "execution_count": null,
   "id": "1d4a9391-4af2-47c8-b310-06c5b3016f59",
   "metadata": {},
   "outputs": [],
   "source": [
    "e.action_space.sample()"
   ]
  },
  {
   "cell_type": "code",
   "execution_count": null,
   "id": "77781c43-bb1e-41ce-b878-2245edf9a094",
   "metadata": {},
   "outputs": [],
   "source": [
    "from keras import layers\n",
    "inputs = layers.Input(shape=(2, ))\n",
    "layer1 = layers.Dense(512, activation=\"relu\")(inputs)\n",
    "outputs = layers.Dense(1, activation=\"linear\")(layer1)\n",
    "nn_model = keras.Model(inputs=inputs, outputs=outputs)\n",
    "s = e.reset()\n",
    "input = keras.backend.constant([s])\n",
    "a = nn_model(input)\n",
    "s,r,d,i = e.step(a)\n",
    "print(s)"
   ]
  },
  {
   "cell_type": "code",
   "execution_count": null,
   "id": "e94051cc-7498-4c85-b296-a79669d4bc64",
   "metadata": {},
   "outputs": [],
   "source": [
    "# Control the agent with the network\n",
    "from keras import layers\n",
    "inputs = layers.Input(shape=(2, ))\n",
    "layer1 = layers.Dense(512, activation=\"relu\")(inputs)\n",
    "outputs = layers.Dense(1, activation=\"linear\")(layer1)\n",
    "nn_model = keras.Model(inputs=inputs, outputs=outputs)\n",
    "for item in range(10):\n",
    "    s = e.reset()\n",
    "    input = keras.backend.constant([s])\n",
    "    a = nn_model(input)\n",
    "    s,r,d,i = e.step(a)\n",
    "    e.render()"
   ]
  },
  {
   "cell_type": "code",
   "execution_count": null,
   "id": "0cba086b-4a65-4ee0-92d3-4ee752bf2161",
   "metadata": {},
   "outputs": [],
   "source": [
    "s = e.reset()\n",
    "input = keras.backend.constant([s]) # s is an array\n",
    "a = nn_model(input)\n",
    "s,r,d,i = e.step(a)\n",
    "print(s)"
   ]
  },
  {
   "cell_type": "code",
   "execution_count": 1,
   "id": "fb686ff6-aa76-4446-b81f-1b26db98022d",
   "metadata": {},
   "outputs": [
    {
     "name": "stdout",
     "output_type": "stream",
     "text": [
      "pygame 2.1.2 (SDL 2.0.18, Python 3.10.8)\n",
      "Hello from the pygame community. https://www.pygame.org/contribute.html\n",
      "Discrete(4)\n"
     ]
    }
   ],
   "source": [
    "# Breakwall enviroment again\n",
    "import keras\n",
    "import gym\n",
    "# We get a discrete (4) action space\n",
    "env_name = \"gym_gs:BreakwallNoFrameskip-v1\"\n",
    "e = gym.make(env_name)\n",
    "s = e.reset()\n",
    "print(e.action_space)"
   ]
  },
  {
   "cell_type": "code",
   "execution_count": 2,
   "id": "585e3e61-4745-45f1-beec-d25bf6a78c11",
   "metadata": {},
   "outputs": [
    {
     "name": "stdout",
     "output_type": "stream",
     "text": [
      "2\n",
      "Observation/ state shape: (600, 780, 3)\n",
      "0\n",
      "Observation/ state shape: (600, 780, 3)\n",
      "3\n",
      "Observation/ state shape: (600, 780, 3)\n",
      "0\n",
      "Observation/ state shape: (600, 780, 3)\n"
     ]
    }
   ],
   "source": [
    "for i in range(4):\n",
    "    print(e.action_space.sample())\n",
    "    print(\"Observation/ state shape:\", s.shape)"
   ]
  },
  {
   "cell_type": "code",
   "execution_count": 3,
   "id": "2a45d350-cf9b-459d-a1f7-1470809e14cf",
   "metadata": {},
   "outputs": [
    {
     "name": "stdout",
     "output_type": "stream",
     "text": [
      "tf.Tensor([[0. 0. 0. 0.]], shape=(1, 4), dtype=float32)\n"
     ]
    }
   ],
   "source": [
    "# We'll update the imput layer\n",
    "from keras import layers\n",
    "inputs = layers.Input(shape=(600,780,3,))\n",
    "layer1 = layers.Flatten()(inputs) # We flatten the the 3D input layer\n",
    "layer2 = layers.Dense(512, activation=\"relu\")(layer1)\n",
    "outputs = layers.Dense(4, activation=\"linear\")(layer2)\n",
    "nn_model = keras.Model(inputs=inputs, outputs=outputs)\n",
    "state = e.reset()\n",
    "state_tensor = keras.backend.constant(state)\n",
    "state_tensor = keras.backend.expand_dims(state_tensor, 0)\n",
    "action_values = nn_model(state_tensor)\n",
    "print(action_values)"
   ]
  },
  {
   "cell_type": "code",
   "execution_count": null,
   "id": "c27e9935-2a2c-4dd4-82e0-43b86d3e0de5",
   "metadata": {},
   "outputs": [],
   "source": [
    "action = keras.backend.argmax(action_values[0]).numpy()\n",
    "action = tf.argmax(action_probs[0]).numpy() # if renamed\n",
    "print(keras.backend.argmax([0.1,0.5,0.01,0.2]).numpy())"
   ]
  },
  {
   "cell_type": "code",
   "execution_count": 4,
   "id": "053e95dd-48af-4c18-949b-12d5a13e1a3e",
   "metadata": {},
   "outputs": [
    {
     "name": "stdout",
     "output_type": "stream",
     "text": [
      "tf.Tensor([[-135.33052    -34.96535     -2.6175923  104.20433  ]], shape=(1, 4), dtype=float32) 3\n",
      "tf.Tensor([[-133.47585    -40.308247    -9.9967165  100.298096 ]], shape=(1, 4), dtype=float32) 3\n",
      "tf.Tensor([[-133.52586   -34.83712    -9.089392  106.48525 ]], shape=(1, 4), dtype=float32) 3\n",
      "tf.Tensor([[-142.65623   -37.653713  -12.290092  100.456726]], shape=(1, 4), dtype=float32) 3\n",
      "tf.Tensor([[-139.46967   -29.941523  -15.024807  102.14433 ]], shape=(1, 4), dtype=float32) 3\n",
      "tf.Tensor([[-137.86325   -28.1824    -18.672073  102.72069 ]], shape=(1, 4), dtype=float32) 3\n",
      "tf.Tensor([[-134.41286   -29.641228  -12.233908  105.396324]], shape=(1, 4), dtype=float32) 3\n",
      "tf.Tensor([[-139.85345    -27.45109    -11.1273575   93.42384  ]], shape=(1, 4), dtype=float32) 3\n",
      "tf.Tensor([[-134.20053   -29.01193   -11.014997   94.585106]], shape=(1, 4), dtype=float32) 3\n",
      "tf.Tensor([[-136.16206   -31.467659   -6.581274   96.69547 ]], shape=(1, 4), dtype=float32) 3\n"
     ]
    }
   ],
   "source": [
    "state = e.reset()\n",
    "state,r,d,i = e.step(1)\n",
    "for i in range(10):\n",
    "    state_tensor = keras.backend.constant(state)\n",
    "    state_tensor = keras.backend.expand_dims(state_tensor, 0)\n",
    "    action_values = nn_model(state_tensor)\n",
    "    action = keras.backend.argmax(action_values[0]).numpy()\n",
    "    print(action_values, action)\n",
    "    state,r,d,i = e.step(1)\n",
    "    e.render()"
   ]
  }
 ],
 "metadata": {
  "kernelspec": {
   "display_name": "Python 3 (ipykernel)",
   "language": "python",
   "name": "python3"
  },
  "language_info": {
   "codemirror_mode": {
    "name": "ipython",
    "version": 3
   },
   "file_extension": ".py",
   "mimetype": "text/x-python",
   "name": "python",
   "nbconvert_exporter": "python",
   "pygments_lexer": "ipython3",
   "version": "3.10.8"
  }
 },
 "nbformat": 4,
 "nbformat_minor": 5
}
