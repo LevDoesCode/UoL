{
 "cells": [
  {
   "cell_type": "code",
   "execution_count": 1,
   "id": "0b2e213c-9b00-4632-9d5b-85eb8b210b4f",
   "metadata": {},
   "outputs": [],
   "source": [
    "run starter.py"
   ]
  },
  {
   "cell_type": "code",
   "execution_count": 3,
   "id": "589b742b-cf39-4d26-9237-7f3bee95fba2",
   "metadata": {},
   "outputs": [],
   "source": [
    "robo1 = p.loadURDF(\"C:/Users/Lev/venvs/pybullet-1/Lib/site-packages/pybullet_data/humanoid/humanoid.urdf\")"
   ]
  },
  {
   "cell_type": "code",
   "execution_count": 4,
   "id": "05e0eddd-8e54-42cb-8739-229e14dbf56e",
   "metadata": {},
   "outputs": [],
   "source": [
    "p.setRealTimeSimulation(1)"
   ]
  },
  {
   "cell_type": "code",
   "execution_count": 5,
   "id": "b113dbf1-903c-4a54-aa9a-a9a3ee6ee3e7",
   "metadata": {},
   "outputs": [
    {
     "data": {
      "text/plain": [
       "15"
      ]
     },
     "execution_count": 5,
     "metadata": {},
     "output_type": "execute_result"
    }
   ],
   "source": [
    "p.getNumJoints(robo1)"
   ]
  },
  {
   "cell_type": "code",
   "execution_count": 6,
   "id": "21c48b17-c5ea-4fb3-9a1e-17e5e817f74b",
   "metadata": {},
   "outputs": [
    {
     "name": "stdout",
     "output_type": "stream",
     "text": [
      "4\n",
      "2\n",
      "2\n",
      "2\n",
      "0\n",
      "4\n",
      "2\n",
      "0\n",
      "4\n",
      "2\n",
      "0\n",
      "2\n",
      "2\n",
      "0\n",
      "2\n"
     ]
    }
   ],
   "source": [
    "for i in range(p.getNumJoints(robo1)):\n",
    "    print(p.getJointInfo(robo1, i) [2])"
   ]
  },
  {
   "cell_type": "code",
   "execution_count": 8,
   "id": "969b3f01-ba40-4018-bc1c-efbd6a6d4ef6",
   "metadata": {},
   "outputs": [],
   "source": [
    "for i in range(p.getNumJoints(robo1)):\n",
    "    p.setJointMotorControl2(robo1, i, controlMode = p.VELOCITY_CONTROL, targetVelocity = -0.25)"
   ]
  }
 ],
 "metadata": {
  "kernelspec": {
   "display_name": "Python 3 (ipykernel)",
   "language": "python",
   "name": "python3"
  },
  "language_info": {
   "codemirror_mode": {
    "name": "ipython",
    "version": 3
   },
   "file_extension": ".py",
   "mimetype": "text/x-python",
   "name": "python",
   "nbconvert_exporter": "python",
   "pygments_lexer": "ipython3",
   "version": "3.10.8"
  }
 },
 "nbformat": 4,
 "nbformat_minor": 5
}
