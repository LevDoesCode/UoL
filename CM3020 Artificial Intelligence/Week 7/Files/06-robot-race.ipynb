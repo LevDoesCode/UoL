{
 "cells": [
  {
   "cell_type": "code",
   "execution_count": 1,
   "id": "2042474a-37dc-4469-81e0-37d9b0ff47b5",
   "metadata": {},
   "outputs": [],
   "source": [
    "run starter.py"
   ]
  },
  {
   "cell_type": "code",
   "execution_count": 2,
   "id": "c9af8a87-ec34-461e-bd7d-cf35d42df2c1",
   "metadata": {},
   "outputs": [],
   "source": [
    "robots = []"
   ]
  },
  {
   "cell_type": "code",
   "execution_count": 3,
   "id": "55df7549-1d34-43be-b7a0-0460feb8a95c",
   "metadata": {},
   "outputs": [],
   "source": [
    "robots.append(p.loadURDF(\"test6.urdf\"))\n",
    "robots.append(p.loadURDF(\"steven-chiu.urdf\"))\n",
    "robots.append(p.loadURDF(\"zalalem-alemu.urdf\"))"
   ]
  },
  {
   "cell_type": "code",
   "execution_count": 4,
   "id": "fa028b3d-bd3e-4f6d-b531-ae334f4a6cfd",
   "metadata": {},
   "outputs": [],
   "source": [
    "for i in range(len(robots)):\n",
    "    for j in range(p.getNumJoints(robots[i])):\n",
    "        p.setJointMotorControl2(robots[i], j, controlMode = p.VELOCITY_CONTROL, targetVelocity = 5)"
   ]
  },
  {
   "cell_type": "code",
   "execution_count": 5,
   "id": "7d4840be-e06f-4dca-a589-a0e5d634fd97",
   "metadata": {},
   "outputs": [],
   "source": [
    "p.setRealTimeSimulation(1)"
   ]
  }
 ],
 "metadata": {
  "kernelspec": {
   "display_name": "Python 3 (ipykernel)",
   "language": "python",
   "name": "python3"
  },
  "language_info": {
   "codemirror_mode": {
    "name": "ipython",
    "version": 3
   },
   "file_extension": ".py",
   "mimetype": "text/x-python",
   "name": "python",
   "nbconvert_exporter": "python",
   "pygments_lexer": "ipython3",
   "version": "3.10.8"
  }
 },
 "nbformat": 4,
 "nbformat_minor": 5
}
