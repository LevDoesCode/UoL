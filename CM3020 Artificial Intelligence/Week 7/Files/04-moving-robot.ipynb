{
 "cells": [
  {
   "cell_type": "code",
   "execution_count": 1,
   "id": "4ab5ff34-e912-4cab-8381-de7ec26b65fc",
   "metadata": {},
   "outputs": [],
   "source": [
    "run starter.py"
   ]
  },
  {
   "cell_type": "code",
   "execution_count": 2,
   "id": "fc0c016e-af2f-4424-a8c1-a6cc33681b22",
   "metadata": {},
   "outputs": [],
   "source": [
    "robo1 = p.loadURDF(\"test5.urdf\")"
   ]
  },
  {
   "cell_type": "code",
   "execution_count": 3,
   "id": "6f93de75-3fc1-4eaa-957d-19883f9b7d97",
   "metadata": {},
   "outputs": [],
   "source": [
    "p.setRealTimeSimulation(1)"
   ]
  },
  {
   "cell_type": "code",
   "execution_count": 11,
   "id": "8c7b4ae6-994e-415a-9904-55c108af9ec7",
   "metadata": {},
   "outputs": [],
   "source": [
    "p.resetBasePositionAndOrientation(robo1, [0, 0, 0.1], [0, 0, 0, 1]) # reset position"
   ]
  },
  {
   "cell_type": "code",
   "execution_count": 8,
   "id": "571ef95b-aa71-4b67-a930-d6549561e703",
   "metadata": {},
   "outputs": [],
   "source": [
    "p.setJointMotorControl2(robo1, 0, controlMode = p.VELOCITY_CONTROL, targetVelocity = 10)"
   ]
  },
  {
   "cell_type": "code",
   "execution_count": 18,
   "id": "4ece4ccc-e6f4-4190-8d8c-42120f37ee94",
   "metadata": {},
   "outputs": [],
   "source": [
    "p.setJointMotorControl2(robo1, 0, controlMode = p.POSITION_CONTROL, targetVelocity = 10, targetPosition = 10)"
   ]
  },
  {
   "cell_type": "code",
   "execution_count": 15,
   "id": "5b025d5b-a240-4bd4-8587-0d28449233ea",
   "metadata": {},
   "outputs": [
    {
     "data": {
      "text/plain": [
       "(0,\n",
       " b'base_to_sub',\n",
       " 0,\n",
       " 7,\n",
       " 6,\n",
       " 1,\n",
       " 0.0,\n",
       " 0.0,\n",
       " 10.0,\n",
       " 0.0,\n",
       " 0.0,\n",
       " 1.0,\n",
       " b'sub_link',\n",
       " (1.0, 0.0, 0.0),\n",
       " (0.0, 0.0, 0.6),\n",
       " (0.0, 0.0, 0.0, 1.0),\n",
       " -1)"
      ]
     },
     "execution_count": 15,
     "metadata": {},
     "output_type": "execute_result"
    }
   ],
   "source": [
    "p.getJointInfo(robo1, 0)"
   ]
  },
  {
   "cell_type": "code",
   "execution_count": 16,
   "id": "5375a85d-63be-4f0b-95c1-aa89c214151c",
   "metadata": {},
   "outputs": [
    {
     "data": {
      "text/plain": [
       "0"
      ]
     },
     "execution_count": 16,
     "metadata": {},
     "output_type": "execute_result"
    }
   ],
   "source": [
    "p.JOINT_REVOLUTE"
   ]
  },
  {
   "cell_type": "code",
   "execution_count": 17,
   "id": "09dd3456-6c9b-4ba9-aaff-e907b215ba5c",
   "metadata": {},
   "outputs": [
    {
     "data": {
      "text/plain": [
       "1"
      ]
     },
     "execution_count": 17,
     "metadata": {},
     "output_type": "execute_result"
    }
   ],
   "source": [
    "p.JOINT_PRISMATIC"
   ]
  },
  {
   "cell_type": "code",
   "execution_count": 23,
   "id": "e65f8858-85d5-402e-855c-0972613ea529",
   "metadata": {},
   "outputs": [],
   "source": [
    "robo2 = p.loadURDF(\"test6.urdf\")"
   ]
  },
  {
   "cell_type": "code",
   "execution_count": 24,
   "id": "7124ae81-cbe3-4ca7-bf6a-16c3905f5dcf",
   "metadata": {},
   "outputs": [],
   "source": [
    "p.setJointMotorControl2(robo2, 0, controlMode = p.VELOCITY_CONTROL, targetVelocity = 0.5)\n",
    "p.setJointMotorControl2(robo2, 1, controlMode = p.VELOCITY_CONTROL, targetVelocity = 0.5)"
   ]
  }
 ],
 "metadata": {
  "kernelspec": {
   "display_name": "Python 3 (ipykernel)",
   "language": "python",
   "name": "python3"
  },
  "language_info": {
   "codemirror_mode": {
    "name": "ipython",
    "version": 3
   },
   "file_extension": ".py",
   "mimetype": "text/x-python",
   "name": "python",
   "nbconvert_exporter": "python",
   "pygments_lexer": "ipython3",
   "version": "3.10.8"
  }
 },
 "nbformat": 4,
 "nbformat_minor": 5
}
