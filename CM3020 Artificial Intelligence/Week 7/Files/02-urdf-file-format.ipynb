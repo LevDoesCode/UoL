{
 "cells": [
  {
   "cell_type": "markdown",
   "id": "75ce20a6-75e2-488a-8bf9-fb77a28b67dc",
   "metadata": {},
   "source": [
    "# Let's load a premade model"
   ]
  },
  {
   "cell_type": "code",
   "execution_count": 1,
   "id": "b4ef4a73-341b-4069-97ea-f112ca016113",
   "metadata": {},
   "outputs": [],
   "source": [
    "import pybullet_data as pd"
   ]
  },
  {
   "cell_type": "code",
   "execution_count": 2,
   "id": "19eb502d-a4e4-48f8-aadd-e62f608f5dd4",
   "metadata": {},
   "outputs": [
    {
     "data": {
      "text/plain": [
       "'C:\\\\Users\\\\Lev\\\\venvs\\\\pybullet-1\\\\lib\\\\site-packages\\\\pybullet_data'"
      ]
     },
     "execution_count": 2,
     "metadata": {},
     "output_type": "execute_result"
    }
   ],
   "source": [
    "pd.getDataPath()"
   ]
  },
  {
   "cell_type": "code",
   "execution_count": 3,
   "id": "990ca6c6-2ad0-4ac2-9dad-1c3604ad9d89",
   "metadata": {},
   "outputs": [],
   "source": [
    "run starter.py"
   ]
  },
  {
   "cell_type": "code",
   "execution_count": 5,
   "id": "b0457b7d-eb89-4170-aaa6-e0183cfb40f6",
   "metadata": {},
   "outputs": [],
   "source": [
    "robot = p.loadURDF(\"C:/Users/Lev/venvs/pybullet-1/Lib/site-packages/pybullet_data/r2d2.urdf\")"
   ]
  },
  {
   "cell_type": "code",
   "execution_count": 6,
   "id": "6573fad6-3e0a-4c6c-b9af-dedabc043c51",
   "metadata": {},
   "outputs": [],
   "source": [
    "samurai = p.loadURDF(\"C:/Users/Lev/venvs/pybullet-1/Lib/site-packages/pybullet_data/samurai.urdf\")"
   ]
  }
 ],
 "metadata": {
  "kernelspec": {
   "display_name": "Python 3 (ipykernel)",
   "language": "python",
   "name": "python3"
  },
  "language_info": {
   "codemirror_mode": {
    "name": "ipython",
    "version": 3
   },
   "file_extension": ".py",
   "mimetype": "text/x-python",
   "name": "python",
   "nbconvert_exporter": "python",
   "pygments_lexer": "ipython3",
   "version": "3.10.8"
  }
 },
 "nbformat": 4,
 "nbformat_minor": 5
}
