{
 "cells": [
  {
   "cell_type": "code",
   "execution_count": null,
   "id": "bf434024-1856-402d-83d2-83ea018a15b3",
   "metadata": {},
   "outputs": [],
   "source": [
    "run starter.py"
   ]
  },
  {
   "cell_type": "code",
   "execution_count": null,
   "id": "9a2fdca7-e44d-48ab-9094-bcbdccb9c24f",
   "metadata": {},
   "outputs": [],
   "source": [
    "more test.urdf"
   ]
  },
  {
   "cell_type": "code",
   "execution_count": null,
   "id": "5dd58498-852b-4e05-8cdb-b0ca81ce2a36",
   "metadata": {},
   "outputs": [],
   "source": [
    "rob = p.loadURDF(\"C:/Users/Lev/venvs/pybullet-1/Lib/site-packages/pybullet_data/r2d2.urdf\")"
   ]
  },
  {
   "cell_type": "code",
   "execution_count": null,
   "id": "cc47478e-bdf6-47da-8b12-0c9a83cd09eb",
   "metadata": {},
   "outputs": [],
   "source": [
    "robo1 = p.loadURDF(\"test.urdf\")"
   ]
  },
  {
   "cell_type": "code",
   "execution_count": null,
   "id": "fcc550f3-08c0-41bf-bc2c-fe66a76840b6",
   "metadata": {},
   "outputs": [],
   "source": [
    "p.setRealTimeSimulation(1)"
   ]
  },
  {
   "cell_type": "code",
   "execution_count": null,
   "id": "8421e1a6-a0a9-48ea-803e-a10061a98749",
   "metadata": {},
   "outputs": [],
   "source": [
    "robo2 = p.loadURDF(\"test2.urdf\") # Collision"
   ]
  },
  {
   "cell_type": "code",
   "execution_count": null,
   "id": "5176eddf-f4e2-4bc7-88a6-084e9d240f66",
   "metadata": {},
   "outputs": [],
   "source": [
    "robo2 = p.loadURDF(\"test3.urdf\") # Inertia"
   ]
  },
  {
   "cell_type": "code",
   "execution_count": null,
   "id": "271311c5-2151-4c18-a2e5-fc7a49436dbe",
   "metadata": {},
   "outputs": [],
   "source": [
    "robo3 = p.loadURDF(\"test4.urdf\") # multiple links and one joint\n",
    "#rpy is roll pitch and y, rotation in different axis"
   ]
  },
  {
   "cell_type": "code",
   "execution_count": null,
   "id": "4213edfc-c8d3-435f-a7ac-c852e24d454b",
   "metadata": {},
   "outputs": [],
   "source": [
    "robo3 = p.loadURDF(\"humanoid.urdf\")"
   ]
  }
 ],
 "metadata": {
  "kernelspec": {
   "display_name": "Python 3 (ipykernel)",
   "language": "python",
   "name": "python3"
  },
  "language_info": {
   "codemirror_mode": {
    "name": "ipython",
    "version": 3
   },
   "file_extension": ".py",
   "mimetype": "text/x-python",
   "name": "python",
   "nbconvert_exporter": "python",
   "pygments_lexer": "ipython3",
   "version": "3.10.8"
  }
 },
 "nbformat": 4,
 "nbformat_minor": 5
}
