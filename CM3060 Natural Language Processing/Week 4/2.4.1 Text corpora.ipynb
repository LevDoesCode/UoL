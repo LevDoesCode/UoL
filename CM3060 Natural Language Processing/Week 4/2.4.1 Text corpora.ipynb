{
 "cells": [
  {
   "cell_type": "markdown",
   "id": "309f90ac-71d0-4b74-9942-3289cda32674",
   "metadata": {},
   "source": [
    "# Text corpora\n",
    "## 1. Gutenberg corpus\n",
    "### Electronic text archive containing free electronic books"
   ]
  },
  {
   "cell_type": "code",
   "execution_count": 1,
   "id": "09f63e09-04e8-4d16-af92-962bdb16cee9",
   "metadata": {},
   "outputs": [],
   "source": [
    "from nltk.corpus import gutenberg"
   ]
  },
  {
   "cell_type": "code",
   "execution_count": 2,
   "id": "6519f2b9-8061-472b-9e86-c08148f2b4f8",
   "metadata": {},
   "outputs": [
    {
     "data": {
      "text/plain": [
       "['austen-emma.txt',\n",
       " 'austen-persuasion.txt',\n",
       " 'austen-sense.txt',\n",
       " 'bible-kjv.txt',\n",
       " 'blake-poems.txt',\n",
       " 'bryant-stories.txt',\n",
       " 'burgess-busterbrown.txt',\n",
       " 'carroll-alice.txt',\n",
       " 'chesterton-ball.txt',\n",
       " 'chesterton-brown.txt',\n",
       " 'chesterton-thursday.txt',\n",
       " 'edgeworth-parents.txt',\n",
       " 'melville-moby_dick.txt',\n",
       " 'milton-paradise.txt',\n",
       " 'shakespeare-caesar.txt',\n",
       " 'shakespeare-hamlet.txt',\n",
       " 'shakespeare-macbeth.txt',\n",
       " 'whitman-leaves.txt']"
      ]
     },
     "execution_count": 2,
     "metadata": {},
     "output_type": "execute_result"
    }
   ],
   "source": [
    "gutenberg.fileids()"
   ]
  },
  {
   "cell_type": "code",
   "execution_count": 3,
   "id": "96301294-03b2-4e1d-ab62-23a7a17ea4fc",
   "metadata": {},
   "outputs": [],
   "source": [
    "# extract words\n",
    "mac = gutenberg.words('shakespeare-macbeth.txt')"
   ]
  },
  {
   "cell_type": "code",
   "execution_count": 4,
   "id": "56ae568d-9470-498a-bc1e-0024609d1ece",
   "metadata": {},
   "outputs": [
    {
     "data": {
      "text/plain": [
       "23140"
      ]
     },
     "execution_count": 4,
     "metadata": {},
     "output_type": "execute_result"
    }
   ],
   "source": [
    "len(mac)"
   ]
  },
  {
   "cell_type": "code",
   "execution_count": 5,
   "id": "e2804231-2f4c-4a8f-812a-a5b26b7907aa",
   "metadata": {},
   "outputs": [
    {
     "data": {
      "text/plain": [
       "['[', 'The', 'Tragedie', 'of', 'Macbeth', 'by', ...]"
      ]
     },
     "execution_count": 5,
     "metadata": {},
     "output_type": "execute_result"
    }
   ],
   "source": [
    "mac"
   ]
  },
  {
   "cell_type": "code",
   "execution_count": 6,
   "id": "9ad6418d-9a00-47ad-8f30-7a8b7b97424f",
   "metadata": {},
   "outputs": [
    {
     "data": {
      "text/plain": [
       "[['[',\n",
       "  'The',\n",
       "  'Tragedie',\n",
       "  'of',\n",
       "  'Macbeth',\n",
       "  'by',\n",
       "  'William',\n",
       "  'Shakespeare',\n",
       "  '1603',\n",
       "  ']'],\n",
       " ['Actus', 'Primus', '.'],\n",
       " ['Scoena', 'Prima', '.'],\n",
       " ['Thunder', 'and', 'Lightning', '.'],\n",
       " ['Enter', 'three', 'Witches', '.']]"
      ]
     },
     "execution_count": 6,
     "metadata": {},
     "output_type": "execute_result"
    }
   ],
   "source": [
    "# extract sentences\n",
    "gutenberg.sents('shakespeare-macbeth.txt')[0:5] # First 5 sentences"
   ]
  },
  {
   "cell_type": "code",
   "execution_count": 7,
   "id": "9821d6f9-f9a4-4b9e-80f8-126a6b542b48",
   "metadata": {},
   "outputs": [
    {
     "data": {
      "text/plain": [
       "[['1', '.'],\n",
       " ['When', 'shall', 'we', 'three', 'meet', 'againe', '?'],\n",
       " ['In', 'Thunder', ',', 'Lightning', ',', 'or', 'in', 'Raine', '?'],\n",
       " ['2', '.'],\n",
       " ['When',\n",
       "  'the',\n",
       "  'Hurley',\n",
       "  '-',\n",
       "  'burley',\n",
       "  \"'\",\n",
       "  's',\n",
       "  'done',\n",
       "  ',',\n",
       "  'When',\n",
       "  'the',\n",
       "  'Battaile',\n",
       "  \"'\",\n",
       "  's',\n",
       "  'lost',\n",
       "  ',',\n",
       "  'and',\n",
       "  'wonne']]"
      ]
     },
     "execution_count": 7,
     "metadata": {},
     "output_type": "execute_result"
    }
   ],
   "source": [
    "gutenberg.sents('shakespeare-macbeth.txt')[5:10] # Next 5 sentences"
   ]
  },
  {
   "cell_type": "markdown",
   "id": "5518584c-f43d-42fb-8a9b-8b9d82e8a65c",
   "metadata": {},
   "source": [
    "# 2. Web & chat\n",
    "### samples of less formal language"
   ]
  },
  {
   "cell_type": "code",
   "execution_count": 8,
   "id": "f778503b-9a4a-4336-b484-353183d1794b",
   "metadata": {},
   "outputs": [],
   "source": [
    "from nltk.corpus import nps_chat"
   ]
  },
  {
   "cell_type": "code",
   "execution_count": 9,
   "id": "0aaa90ae-7528-4f82-80d0-55dadaef19b9",
   "metadata": {},
   "outputs": [],
   "source": [
    "chat = nps_chat.posts('10-19-20s_706posts.xml')"
   ]
  },
  {
   "cell_type": "code",
   "execution_count": 10,
   "id": "09e19b03-a4e5-4009-84ca-13a4f22aaafb",
   "metadata": {},
   "outputs": [
    {
     "data": {
      "text/plain": [
       "[['i', \"'ll\", 'thunder', 'clap', 'your', 'ass', '.'],\n",
       " ['PART'],\n",
       " ['and', 'i', 'dont', 'even', 'know', 'what', 'that', 'means', '.'],\n",
       " ['that', 'sounds', 'painful'],\n",
       " ['any', 'ladis', 'wanna', 'chat', '?', '29', 'm'],\n",
       " ['26', '/', 'm'],\n",
       " ['JOIN'],\n",
       " ['my', 'cousin', 'drew', 'a', 'messed', 'up', 'pic', 'on', 'my', 'cast'],\n",
       " ['PART'],\n",
       " ['24', '/', 'm']]"
      ]
     },
     "execution_count": 10,
     "metadata": {},
     "output_type": "execute_result"
    }
   ],
   "source": [
    "chat[20:30]"
   ]
  },
  {
   "cell_type": "markdown",
   "id": "407ce9b9-4ce2-4e4c-860a-b212ed392f22",
   "metadata": {},
   "source": [
    "# 3. Brown corpus\n",
    "### text from 500 sources, categorized by genre"
   ]
  },
  {
   "cell_type": "code",
   "execution_count": 11,
   "id": "f77a8f7b-ee78-4f7d-bb52-3fe4982f519d",
   "metadata": {},
   "outputs": [],
   "source": [
    "from nltk.corpus import brown"
   ]
  },
  {
   "cell_type": "code",
   "execution_count": 12,
   "id": "1eca1401-baf1-4033-bc13-3b9ca3c54e26",
   "metadata": {},
   "outputs": [
    {
     "data": {
      "text/plain": [
       "['adventure',\n",
       " 'belles_lettres',\n",
       " 'editorial',\n",
       " 'fiction',\n",
       " 'government',\n",
       " 'hobbies',\n",
       " 'humor',\n",
       " 'learned',\n",
       " 'lore',\n",
       " 'mystery',\n",
       " 'news',\n",
       " 'religion',\n",
       " 'reviews',\n",
       " 'romance',\n",
       " 'science_fiction']"
      ]
     },
     "execution_count": 12,
     "metadata": {},
     "output_type": "execute_result"
    }
   ],
   "source": [
    "brown.categories()"
   ]
  },
  {
   "cell_type": "code",
   "execution_count": 13,
   "id": "26e8a772-f93d-4ba6-a9f9-7f9008991482",
   "metadata": {},
   "outputs": [
    {
     "data": {
      "text/plain": [
       "['The', 'Fulton', 'County', 'Grand', 'Jury', 'said', ...]"
      ]
     },
     "execution_count": 13,
     "metadata": {},
     "output_type": "execute_result"
    }
   ],
   "source": [
    "brown.words(categories='news')"
   ]
  },
  {
   "cell_type": "code",
   "execution_count": 14,
   "id": "b0619362-8905-4062-9bf3-5744f6ed1548",
   "metadata": {},
   "outputs": [
    {
     "name": "stdout",
     "output_type": "stream",
     "text": [
      "                  can could   may might  must  will \n",
      "           news    93    86    66    38    50   389 \n",
      "       religion    82    59    78    12    54    71 \n",
      "        hobbies   268    58   131    22    83   264 \n",
      "science_fiction    16    49     4    12     8    16 \n",
      "        romance    74   193    11    51    45    43 \n",
      "          humon     0     0     0     0     0     0 \n"
     ]
    }
   ],
   "source": [
    "# The study of systemic differences between genres is known as \"stylistics\"\n",
    "# e.g. a stylistic analysis of the use of modal verbs\n",
    "import nltk\n",
    "cfd = nltk.ConditionalFreqDist(\n",
    "    (genre, word)\n",
    "    for genre in brown.categories()\n",
    "    for word in brown.words(categories=genre))\n",
    "genres = ['news', 'religion', 'hobbies', 'science_fiction', 'romance', 'humon']\n",
    "modals = ['can', 'could', 'may', 'might', 'must', 'will']\n",
    "cfd.tabulate(conditions = genres, samples = modals)"
   ]
  },
  {
   "cell_type": "markdown",
   "id": "7df941f2-d900-40df-97e0-fdcf1a3f2bb6",
   "metadata": {},
   "source": [
    "# 4. Reuters Corpus\n",
    "### 10,788 news docs, tagged with various topics/industries etc."
   ]
  },
  {
   "cell_type": "code",
   "execution_count": 15,
   "id": "cba18fb4-1232-4771-b7cf-99a69b179437",
   "metadata": {},
   "outputs": [
    {
     "name": "stderr",
     "output_type": "stream",
     "text": [
      "[nltk_data] Downloading package reuters to C:\\nltk_data...\n",
      "[nltk_data]   Package reuters is already up-to-date!\n"
     ]
    },
    {
     "data": {
      "text/plain": [
       "True"
      ]
     },
     "execution_count": 15,
     "metadata": {},
     "output_type": "execute_result"
    }
   ],
   "source": [
    "from nltk.corpus import reuters\n",
    "nltk.download('reuters')"
   ]
  },
  {
   "cell_type": "code",
   "execution_count": 16,
   "id": "91b9e46b-baaf-42f2-8124-bc2e75d2a824",
   "metadata": {},
   "outputs": [
    {
     "data": {
      "text/plain": [
       "['acq',\n",
       " 'alum',\n",
       " 'barley',\n",
       " 'bop',\n",
       " 'carcass',\n",
       " 'castor-oil',\n",
       " 'cocoa',\n",
       " 'coconut',\n",
       " 'coconut-oil',\n",
       " 'coffee',\n",
       " 'copper',\n",
       " 'copra-cake',\n",
       " 'corn',\n",
       " 'cotton',\n",
       " 'cotton-oil',\n",
       " 'cpi',\n",
       " 'cpu',\n",
       " 'crude',\n",
       " 'dfl',\n",
       " 'dlr',\n",
       " 'dmk',\n",
       " 'earn',\n",
       " 'fuel',\n",
       " 'gas',\n",
       " 'gnp',\n",
       " 'gold',\n",
       " 'grain',\n",
       " 'groundnut',\n",
       " 'groundnut-oil',\n",
       " 'heat',\n",
       " 'hog',\n",
       " 'housing',\n",
       " 'income',\n",
       " 'instal-debt',\n",
       " 'interest',\n",
       " 'ipi',\n",
       " 'iron-steel',\n",
       " 'jet',\n",
       " 'jobs',\n",
       " 'l-cattle',\n",
       " 'lead',\n",
       " 'lei',\n",
       " 'lin-oil',\n",
       " 'livestock',\n",
       " 'lumber',\n",
       " 'meal-feed',\n",
       " 'money-fx',\n",
       " 'money-supply',\n",
       " 'naphtha',\n",
       " 'nat-gas',\n",
       " 'nickel',\n",
       " 'nkr',\n",
       " 'nzdlr',\n",
       " 'oat',\n",
       " 'oilseed',\n",
       " 'orange',\n",
       " 'palladium',\n",
       " 'palm-oil',\n",
       " 'palmkernel',\n",
       " 'pet-chem',\n",
       " 'platinum',\n",
       " 'potato',\n",
       " 'propane',\n",
       " 'rand',\n",
       " 'rape-oil',\n",
       " 'rapeseed',\n",
       " 'reserves',\n",
       " 'retail',\n",
       " 'rice',\n",
       " 'rubber',\n",
       " 'rye',\n",
       " 'ship',\n",
       " 'silver',\n",
       " 'sorghum',\n",
       " 'soy-meal',\n",
       " 'soy-oil',\n",
       " 'soybean',\n",
       " 'strategic-metal',\n",
       " 'sugar',\n",
       " 'sun-meal',\n",
       " 'sun-oil',\n",
       " 'sunseed',\n",
       " 'tea',\n",
       " 'tin',\n",
       " 'trade',\n",
       " 'veg-oil',\n",
       " 'wheat',\n",
       " 'wpi',\n",
       " 'yen',\n",
       " 'zinc']"
      ]
     },
     "execution_count": 16,
     "metadata": {},
     "output_type": "execute_result"
    }
   ],
   "source": [
    "reuters.categories()"
   ]
  },
  {
   "cell_type": "code",
   "execution_count": 17,
   "id": "ce974f87-7bb6-4412-bde0-32783adaf4be",
   "metadata": {},
   "outputs": [
    {
     "data": {
      "text/plain": [
       "['ASIAN', 'EXPORTERS', 'FEAR', 'DAMAGE', 'FROM', 'U', ...]"
      ]
     },
     "execution_count": 17,
     "metadata": {},
     "output_type": "execute_result"
    }
   ],
   "source": [
    "reuters.words()"
   ]
  },
  {
   "cell_type": "markdown",
   "id": "ec6fc6ad-906b-4278-b2fe-23d9982bd390",
   "metadata": {},
   "source": [
    "# 5. Inaugural address corpus\n",
    "### 55 texts, one for each US presidential address."
   ]
  },
  {
   "cell_type": "code",
   "execution_count": 18,
   "id": "981c9cf2-6ca6-4205-af3d-64f38fa03525",
   "metadata": {},
   "outputs": [
    {
     "data": {
      "text/plain": [
       "['1789-Washington.txt',\n",
       " '1793-Washington.txt',\n",
       " '1797-Adams.txt',\n",
       " '1801-Jefferson.txt',\n",
       " '1805-Jefferson.txt',\n",
       " '1809-Madison.txt',\n",
       " '1813-Madison.txt',\n",
       " '1817-Monroe.txt',\n",
       " '1821-Monroe.txt',\n",
       " '1825-Adams.txt',\n",
       " '1829-Jackson.txt',\n",
       " '1833-Jackson.txt',\n",
       " '1837-VanBuren.txt',\n",
       " '1841-Harrison.txt',\n",
       " '1845-Polk.txt',\n",
       " '1849-Taylor.txt',\n",
       " '1853-Pierce.txt',\n",
       " '1857-Buchanan.txt',\n",
       " '1861-Lincoln.txt',\n",
       " '1865-Lincoln.txt',\n",
       " '1869-Grant.txt',\n",
       " '1873-Grant.txt',\n",
       " '1877-Hayes.txt',\n",
       " '1881-Garfield.txt',\n",
       " '1885-Cleveland.txt',\n",
       " '1889-Harrison.txt',\n",
       " '1893-Cleveland.txt',\n",
       " '1897-McKinley.txt',\n",
       " '1901-McKinley.txt',\n",
       " '1905-Roosevelt.txt',\n",
       " '1909-Taft.txt',\n",
       " '1913-Wilson.txt',\n",
       " '1917-Wilson.txt',\n",
       " '1921-Harding.txt',\n",
       " '1925-Coolidge.txt',\n",
       " '1929-Hoover.txt',\n",
       " '1933-Roosevelt.txt',\n",
       " '1937-Roosevelt.txt',\n",
       " '1941-Roosevelt.txt',\n",
       " '1945-Roosevelt.txt',\n",
       " '1949-Truman.txt',\n",
       " '1953-Eisenhower.txt',\n",
       " '1957-Eisenhower.txt',\n",
       " '1961-Kennedy.txt',\n",
       " '1965-Johnson.txt',\n",
       " '1969-Nixon.txt',\n",
       " '1973-Nixon.txt',\n",
       " '1977-Carter.txt',\n",
       " '1981-Reagan.txt',\n",
       " '1985-Reagan.txt',\n",
       " '1989-Bush.txt',\n",
       " '1993-Clinton.txt',\n",
       " '1997-Clinton.txt',\n",
       " '2001-Bush.txt',\n",
       " '2005-Bush.txt',\n",
       " '2009-Obama.txt',\n",
       " '2013-Obama.txt',\n",
       " '2017-Trump.txt',\n",
       " '2021-Biden.txt']"
      ]
     },
     "execution_count": 18,
     "metadata": {},
     "output_type": "execute_result"
    }
   ],
   "source": [
    "from nltk.corpus import inaugural\n",
    "inaugural.fileids()"
   ]
  },
  {
   "cell_type": "code",
   "execution_count": 19,
   "id": "4c9099ac-5c7b-417b-8210-557f66b74a48",
   "metadata": {},
   "outputs": [
    {
     "data": {
      "image/png": "[encoded data removed]",
      "text/plain": [
       "<Figure size 640x480 with 1 Axes>"
      ]
     },
     "metadata": {},
     "output_type": "display_data"
    },
    {
     "data": {
      "text/plain": [
       "<AxesSubplot: xlabel='Samples', ylabel='Counts'>"
      ]
     },
     "execution_count": 19,
     "metadata": {},
     "output_type": "execute_result"
    }
   ],
   "source": [
    "cfd = nltk.ConditionalFreqDist(\n",
    "    (target, fileid[:4])\n",
    "    for fileid in inaugural.fileids()\n",
    "    for w in inaugural.words(fileid)\n",
    "    for target in ['america', 'citizen'] if w.lower().startswith(target))\n",
    "cfd.plot()"
   ]
  },
  {
   "cell_type": "code",
   "execution_count": 20,
   "id": "e904063f-5fbe-41e9-b4d1-79868594ddab",
   "metadata": {},
   "outputs": [
    {
     "data": {
      "text/plain": [
       "<ConditionalFreqDist with 2 conditions>"
      ]
     },
     "execution_count": 20,
     "metadata": {},
     "output_type": "execute_result"
    }
   ],
   "source": [
    "cfd"
   ]
  },
  {
   "cell_type": "code",
   "execution_count": 21,
   "id": "565ff739-4271-4f42-8db5-7e89a4e66560",
   "metadata": {},
   "outputs": [
    {
     "data": {
      "text/plain": [
       "['citizen', 'america']"
      ]
     },
     "execution_count": 21,
     "metadata": {},
     "output_type": "execute_result"
    }
   ],
   "source": [
    "cfd.conditions()"
   ]
  },
  {
   "cell_type": "code",
   "execution_count": 22,
   "id": "7bd6e4d8-efa2-4440-98da-5532124b00db",
   "metadata": {},
   "outputs": [
    {
     "name": "stdout",
     "output_type": "stream",
     "text": [
      "<FreqDist with 50 samples and 502 outcomes>\n"
     ]
    }
   ],
   "source": [
    "print(cfd['america'])"
   ]
  },
  {
   "cell_type": "code",
   "execution_count": 23,
   "id": "8423f19a-d2a8-457c-9f96-a68d6229da25",
   "metadata": {},
   "outputs": [
    {
     "data": {
      "text/plain": [
       "[('1841', 38),\n",
       " ('1821', 15),\n",
       " ('1817', 14),\n",
       " ('1885', 13),\n",
       " ('1889', 12),\n",
       " ('1929', 12),\n",
       " ('1845', 11),\n",
       " ('2001', 11),\n",
       " ('1805', 10),\n",
       " ('1893', 10)]"
      ]
     },
     "execution_count": 23,
     "metadata": {},
     "output_type": "execute_result"
    }
   ],
   "source": [
    "cfd['citizen'].most_common(10)"
   ]
  },
  {
   "cell_type": "code",
   "execution_count": 24,
   "id": "1009b0ae-dad9-47e8-8e49-e4fd2a6d72f7",
   "metadata": {},
   "outputs": [
    {
     "data": {
      "text/plain": [
       "[('2021', 40),\n",
       " ('2017', 35),\n",
       " ('1993', 33),\n",
       " ('1997', 31),\n",
       " ('2005', 30),\n",
       " ('1921', 24),\n",
       " ('1973', 23),\n",
       " ('1985', 21),\n",
       " ('2001', 20),\n",
       " ('2013', 19)]"
      ]
     },
     "execution_count": 24,
     "metadata": {},
     "output_type": "execute_result"
    }
   ],
   "source": [
    "cfd['america'].most_common(10)"
   ]
  },
  {
   "cell_type": "code",
   "execution_count": 25,
   "id": "9ff0e423-8241-436d-923f-b3328dcc05f3",
   "metadata": {},
   "outputs": [
    {
     "data": {
      "text/plain": [
       "40"
      ]
     },
     "execution_count": 25,
     "metadata": {},
     "output_type": "execute_result"
    }
   ],
   "source": [
    "cfd['america']['2021']"
   ]
  },
  {
   "cell_type": "code",
   "execution_count": 26,
   "id": "337a9910-fd59-4566-8e80-d37a7edf5e1c",
   "metadata": {},
   "outputs": [
    {
     "name": "stdout",
     "output_type": "stream",
     "text": [
      "                  0    1    2    3    4    5    6    7    8    9 \n",
      "       English    0  185  525  883  997 1166 1283 1440 1558 1638 \n",
      "German_Deutsch    0  171  263  614  717  894 1013 1110 1213 1275 \n"
     ]
    }
   ],
   "source": [
    "from nltk.corpus import udhr\n",
    "languages = ['Chickasaw', 'English', 'German_Deutsch',\n",
    "             'Greenlandic_Inuktikut', 'Hungarian_Magyar', 'Ibibio_Efik']\n",
    "cfd = nltk.ConditionalFreqDist(\n",
    "    (lang, len(word))\n",
    "    for lang in languages\n",
    "    for word in udhr.words(lang + '-Latin1'))\n",
    "cfd.tabulate(conditions=['English', 'German_Deutsch'],\n",
    "             samples=range(10), cumulative=True)"
   ]
  },
  {
   "cell_type": "markdown",
   "id": "58a755c9-5f7b-48b0-aaf7-67abe19bd7bc",
   "metadata": {},
   "source": [
    "# Summary: 4 types of corpus\n",
    "1. Isolated (e.g. Gutenberg)\n",
    "2. Categorized (e.g. Brown)\n",
    "3. Overlapping (e.g. Reuters)\n",
    "4. Temporal (e.g. Inaugural)"
   ]
  }
 ],
 "metadata": {
  "kernelspec": {
   "display_name": "Python 3 (ipykernel)",
   "language": "python",
   "name": "python3"
  },
  "language_info": {
   "codemirror_mode": {
    "name": "ipython",
    "version": 3
   },
   "file_extension": ".py",
   "mimetype": "text/x-python",
   "name": "python",
   "nbconvert_exporter": "python",
   "pygments_lexer": "ipython3",
   "version": "3.10.8"
  }
 },
 "nbformat": 4,
 "nbformat_minor": 5
}
